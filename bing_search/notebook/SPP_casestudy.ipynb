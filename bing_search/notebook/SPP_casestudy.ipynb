{
 "cells": [
  {
   "cell_type": "code",
   "execution_count": null,
   "metadata": {},
   "outputs": [
    {
     "name": "stderr",
     "output_type": "stream",
     "text": [
      "  4%|▍         | 1/25 [00:30<12:07, 30.32s/it][ WARN:0@972.183] global /io/opencv/modules/imgcodecs/src/loadsave.cpp (239) findDecoder imread_('/workspace/repo/cccrawl/tmp/SPP_casestudy/screenshot_2024-11-05_16-04-38.png'): can't open/read file: check file path/integrity\n",
      "  4%|▍         | 1/25 [00:37<14:53, 37.23s/it]\n"
     ]
    },
    {
     "ename": "error",
     "evalue": "OpenCV(4.5.5) /io/opencv/modules/imgproc/src/color.cpp:182: error: (-215:Assertion failed) !_src.empty() in function 'cvtColor'\n",
     "output_type": "error",
     "traceback": [
      "\u001b[0;31m---------------------------------------------------------------------------\u001b[0m",
      "\u001b[0;31merror\u001b[0m                                     Traceback (most recent call last)",
      "Cell \u001b[0;32mIn[9], line 67\u001b[0m\n\u001b[1;32m     62\u001b[0m         yaml\u001b[38;5;241m.\u001b[39mdump(results, f, allow_unicode\u001b[38;5;241m=\u001b[39m\u001b[38;5;28;01mTrue\u001b[39;00m, default_flow_style\u001b[38;5;241m=\u001b[39m\u001b[38;5;28;01mFalse\u001b[39;00m, width\u001b[38;5;241m=\u001b[39m\u001b[38;5;28mfloat\u001b[39m(\u001b[38;5;124m\"\u001b[39m\u001b[38;5;124minf\u001b[39m\u001b[38;5;124m\"\u001b[39m))\n\u001b[1;32m     64\u001b[0m     \u001b[38;5;28;01mreturn\u001b[39;00m yaml_path\n\u001b[0;32m---> 67\u001b[0m yaml_output \u001b[38;5;241m=\u001b[39m \u001b[43mprocess_tasks\u001b[49m\u001b[43m(\u001b[49m\u001b[43mbase_directory\u001b[49m\u001b[43m)\u001b[49m\n\u001b[1;32m     68\u001b[0m \u001b[38;5;28mprint\u001b[39m(\u001b[38;5;124mf\u001b[39m\u001b[38;5;124m\"\u001b[39m\u001b[38;5;124mOCR results saved to: \u001b[39m\u001b[38;5;132;01m{\u001b[39;00myaml_output\u001b[38;5;132;01m}\u001b[39;00m\u001b[38;5;124m\"\u001b[39m)\n",
      "Cell \u001b[0;32mIn[9], line 57\u001b[0m, in \u001b[0;36mprocess_tasks\u001b[0;34m(base_dir)\u001b[0m\n\u001b[1;32m     55\u001b[0m         local_image_path \u001b[38;5;241m=\u001b[39m os\u001b[38;5;241m.\u001b[39mpath\u001b[38;5;241m.\u001b[39mjoin(target_directory, image_file)\n\u001b[1;32m     56\u001b[0m         os\u001b[38;5;241m.\u001b[39msystem(\u001b[38;5;124mf\u001b[39m\u001b[38;5;124m\"\u001b[39m\u001b[38;5;124mcp \u001b[39m\u001b[38;5;132;01m{\u001b[39;00mimage_path\u001b[38;5;132;01m}\u001b[39;00m\u001b[38;5;124m \u001b[39m\u001b[38;5;132;01m{\u001b[39;00mlocal_image_path\u001b[38;5;132;01m}\u001b[39;00m\u001b[38;5;124m\"\u001b[39m)\n\u001b[0;32m---> 57\u001b[0m         text \u001b[38;5;241m=\u001b[39m \u001b[43mextract_text\u001b[49m\u001b[43m(\u001b[49m\u001b[43mlocal_image_path\u001b[49m\u001b[43m)\u001b[49m\n\u001b[1;32m     58\u001b[0m         results[task]\u001b[38;5;241m.\u001b[39mappend({image_file: text})\n\u001b[1;32m     60\u001b[0m yaml_path \u001b[38;5;241m=\u001b[39m os\u001b[38;5;241m.\u001b[39mpath\u001b[38;5;241m.\u001b[39mjoin(target_directory, \u001b[38;5;124m\"\u001b[39m\u001b[38;5;124mresults.yaml\u001b[39m\u001b[38;5;124m\"\u001b[39m)\n",
      "Cell \u001b[0;32mIn[9], line 28\u001b[0m, in \u001b[0;36mextract_text\u001b[0;34m(image_path)\u001b[0m\n\u001b[1;32m     26\u001b[0m \u001b[38;5;28;01mdef\u001b[39;00m \u001b[38;5;21mextract_text\u001b[39m(image_path):\n\u001b[1;32m     27\u001b[0m     image \u001b[38;5;241m=\u001b[39m cv2\u001b[38;5;241m.\u001b[39mimread(image_path)\n\u001b[0;32m---> 28\u001b[0m     gray \u001b[38;5;241m=\u001b[39m \u001b[43mcv2\u001b[49m\u001b[38;5;241;43m.\u001b[39;49m\u001b[43mcvtColor\u001b[49m\u001b[43m(\u001b[49m\u001b[43mimage\u001b[49m\u001b[43m,\u001b[49m\u001b[43m \u001b[49m\u001b[43mcv2\u001b[49m\u001b[38;5;241;43m.\u001b[39;49m\u001b[43mCOLOR_BGR2GRAY\u001b[49m\u001b[43m)\u001b[49m\n\u001b[1;32m     29\u001b[0m     height, width \u001b[38;5;241m=\u001b[39m gray\u001b[38;5;241m.\u001b[39mshape\n\u001b[1;32m     30\u001b[0m     bottom_crop \u001b[38;5;241m=\u001b[39m gray[\u001b[38;5;28mint\u001b[39m(height \u001b[38;5;241m*\u001b[39m \u001b[38;5;241m0.85\u001b[39m):, :]\n",
      "\u001b[0;31merror\u001b[0m: OpenCV(4.5.5) /io/opencv/modules/imgproc/src/color.cpp:182: error: (-215:Assertion failed) !_src.empty() in function 'cvtColor'\n"
     ]
    }
   ],
   "source": [
    "import os\n",
    "import yaml\n",
    "import pytesseract\n",
    "from PIL import Image\n",
    "import requests\n",
    "from io import BytesIO\n",
    "import cv2\n",
    "import numpy as np\n",
    "from tqdm import tqdm\n",
    "\n",
    "max_example_images = 32\n",
    "max_example_tasks = -1\n",
    "\n",
    "# Example Usage\n",
    "base_directory = \"/mnt/vground/plot/screenspotpro/output\"\n",
    "target_directory = \"/workspace/repo/cccrawl/tmp/SPP_casestudy\"\n",
    "\n",
    "def download_image(url, save_path):\n",
    "    response = requests.get(url)\n",
    "    if response.status_code == 200:\n",
    "        with open(save_path, 'wb') as f:\n",
    "            f.write(response.content)\n",
    "        return True\n",
    "    return False\n",
    "\n",
    "def extract_text(image_path):\n",
    "    image = cv2.imread(image_path)\n",
    "    gray = cv2.cvtColor(image, cv2.COLOR_BGR2GRAY)\n",
    "    height, width = gray.shape\n",
    "    bottom_crop = gray[int(height * 0.85):, :]\n",
    "    text = pytesseract.image_to_string(bottom_crop)\n",
    "    text = '\\n'.join([line.strip() for line in text.splitlines() if line.strip()])\n",
    "    return text\n",
    "\n",
    "def get_tasks_from_directory(base_dir):\n",
    "    return [d for d in os.listdir(base_dir) if os.path.isdir(os.path.join(base_dir, d))]\n",
    "\n",
    "def process_tasks(base_dir):\n",
    "    results = {}\n",
    "    tasks = get_tasks_from_directory(base_dir)\n",
    "\n",
    "    tasks = tasks[:max_example_tasks]\n",
    "    \n",
    "    for task in tqdm(tasks):\n",
    "        task_dir = os.path.join(base_dir, task)\n",
    "        results[task] = []\n",
    "        \n",
    "        image_files = [f for f in os.listdir(task_dir) if f.lower().endswith(('png', 'jpg', 'jpeg'))]\n",
    "\n",
    "        image_files = image_files[:max_example_images]\n",
    "\n",
    "        os.makedirs(os.path.join(target_directory, task), exist_ok=True)\n",
    "\n",
    "        for image_file in image_files:\n",
    "            image_path = os.path.join(task_dir, image_file)\n",
    "            # copy image to local directory\n",
    "            local_image_path = os.path.join(target_directory, task, image_file)\n",
    "            os.system(f\"cp {image_path} {local_image_path}\")\n",
    "            text = extract_text(local_image_path)\n",
    "            results[task].append({image_file: text})\n",
    "    \n",
    "    yaml_path = os.path.join(target_directory, \"results.yaml\")\n",
    "    with open(yaml_path, 'w', encoding='utf-8') as f:\n",
    "        yaml.dump(results, f, allow_unicode=True, default_flow_style=False, width=float(\"inf\"))\n",
    "    \n",
    "    return yaml_path\n",
    "\n",
    "os.makedirs(target_directory, exist_ok=True)\n",
    "yaml_output = process_tasks(base_directory)\n",
    "print(f\"OCR results saved to: {yaml_output}\")\n"
   ]
  }
 ],
 "metadata": {
  "kernelspec": {
   "display_name": "fusemix",
   "language": "python",
   "name": "python3"
  },
  "language_info": {
   "codemirror_mode": {
    "name": "ipython",
    "version": 3
   },
   "file_extension": ".py",
   "mimetype": "text/x-python",
   "name": "python",
   "nbconvert_exporter": "python",
   "pygments_lexer": "ipython3",
   "version": "3.8.19"
  }
 },
 "nbformat": 4,
 "nbformat_minor": 2
}
